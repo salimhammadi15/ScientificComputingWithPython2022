{
 "cells": [
  {
   "cell_type": "markdown",
   "metadata": {},
   "source": [
    "You can solve these exercises in the room or at home. For this week, and the next 3 weeks, exercises have to be solved by creating a dedicated `.py` file (or files) called `01ex_introduction.py`.\n",
    "\n",
    "In case you need multiple files, name them `01ex_introduction_es01.py`, `01ex_introduction_es02.py` and so on. \n",
    "\n",
    "The exercises need to run without errors in `python3`."
   ]
  },
  {
   "cell_type": "markdown",
   "metadata": {},
   "source": [
    "1\\. **The HelloWorld replacement**\n",
    "\n",
    "a) Write a program that:\n",
    "- prints the numbers from 1 to 100\n",
    "- but for multiples of three print \"`Hello`\" instead of the number and for the multiples of five print \"`World`\"\n",
    "- for numbers which are multiples of both three and five print \"`HelloWorld`\".\n",
    "\n",
    "b) Put the result in a tuple and substitute \"`Hello`\" with \"`Python`\" and \"`World`\" with \"`Works`\"."
   ]
  },
  {
   "cell_type": "code",
   "execution_count": 1,
   "metadata": {},
   "outputs": [
    {
     "name": "stdout",
     "output_type": "stream",
     "text": [
      "1\n",
      "2\n",
      "Hello\n",
      "4\n",
      "World\n",
      "Hello\n",
      "7\n",
      "8\n",
      "Hello\n",
      "World\n",
      "11\n",
      "Hello\n",
      "13\n",
      "14\n",
      "HelloWorld\n",
      "16\n",
      "17\n",
      "Hello\n",
      "19\n",
      "World\n",
      "Hello\n",
      "22\n",
      "23\n",
      "Hello\n",
      "World\n",
      "26\n",
      "Hello\n",
      "28\n",
      "29\n",
      "HelloWorld\n",
      "31\n",
      "32\n",
      "Hello\n",
      "34\n",
      "World\n",
      "Hello\n",
      "37\n",
      "38\n",
      "Hello\n",
      "World\n",
      "41\n",
      "Hello\n",
      "43\n",
      "44\n",
      "HelloWorld\n",
      "46\n",
      "47\n",
      "Hello\n",
      "49\n",
      "World\n",
      "Hello\n",
      "52\n",
      "53\n",
      "Hello\n",
      "World\n",
      "56\n",
      "Hello\n",
      "58\n",
      "59\n",
      "HelloWorld\n",
      "61\n",
      "62\n",
      "Hello\n",
      "64\n",
      "World\n",
      "Hello\n",
      "67\n",
      "68\n",
      "Hello\n",
      "World\n",
      "71\n",
      "Hello\n",
      "73\n",
      "74\n",
      "HelloWorld\n",
      "76\n",
      "77\n",
      "Hello\n",
      "79\n",
      "World\n",
      "Hello\n",
      "82\n",
      "83\n",
      "Hello\n",
      "World\n",
      "86\n",
      "Hello\n",
      "88\n",
      "89\n",
      "HelloWorld\n",
      "91\n",
      "92\n",
      "Hello\n",
      "94\n",
      "World\n",
      "Hello\n",
      "97\n",
      "98\n",
      "Hello\n",
      "World\n"
     ]
    }
   ],
   "source": [
    "# ------------ Question a ------------ #\n",
    "result = tuple()\n",
    "for i in range(1,101):\n",
    "    if i % 15 == 0 :\n",
    "        print('HelloWorld')\n",
    "        result+=('HelloWorld',)\n",
    "    elif i % 3 == 0 :\n",
    "        print('Hello')\n",
    "        result+=('Hello',)\n",
    "    elif i % 5 == 0:\n",
    "        print('World')\n",
    "        result+=('World',)\n",
    "    else:\n",
    "        print(i)\n",
    "        result+=(i,)"
   ]
  },
  {
   "cell_type": "code",
   "execution_count": 2,
   "metadata": {},
   "outputs": [
    {
     "data": {
      "text/plain": [
       "(1,\n",
       " 2,\n",
       " 'Python',\n",
       " 4,\n",
       " 'Works',\n",
       " 'Python',\n",
       " 7,\n",
       " 8,\n",
       " 'Python',\n",
       " 'Works',\n",
       " 11,\n",
       " 'Python',\n",
       " 13,\n",
       " 14,\n",
       " 'PythonWorks',\n",
       " 16,\n",
       " 17,\n",
       " 'Python',\n",
       " 19,\n",
       " 'Works',\n",
       " 'Python',\n",
       " 22,\n",
       " 23,\n",
       " 'Python',\n",
       " 'Works',\n",
       " 26,\n",
       " 'Python',\n",
       " 28,\n",
       " 29,\n",
       " 'PythonWorks',\n",
       " 31,\n",
       " 32,\n",
       " 'Python',\n",
       " 34,\n",
       " 'Works',\n",
       " 'Python',\n",
       " 37,\n",
       " 38,\n",
       " 'Python',\n",
       " 'Works',\n",
       " 41,\n",
       " 'Python',\n",
       " 43,\n",
       " 44,\n",
       " 'PythonWorks',\n",
       " 46,\n",
       " 47,\n",
       " 'Python',\n",
       " 49,\n",
       " 'Works',\n",
       " 'Python',\n",
       " 52,\n",
       " 53,\n",
       " 'Python',\n",
       " 'Works',\n",
       " 56,\n",
       " 'Python',\n",
       " 58,\n",
       " 59,\n",
       " 'PythonWorks',\n",
       " 61,\n",
       " 62,\n",
       " 'Python',\n",
       " 64,\n",
       " 'Works',\n",
       " 'Python',\n",
       " 67,\n",
       " 68,\n",
       " 'Python',\n",
       " 'Works',\n",
       " 71,\n",
       " 'Python',\n",
       " 73,\n",
       " 74,\n",
       " 'PythonWorks',\n",
       " 76,\n",
       " 77,\n",
       " 'Python',\n",
       " 79,\n",
       " 'Works',\n",
       " 'Python',\n",
       " 82,\n",
       " 83,\n",
       " 'Python',\n",
       " 'Works',\n",
       " 86,\n",
       " 'Python',\n",
       " 88,\n",
       " 89,\n",
       " 'PythonWorks',\n",
       " 91,\n",
       " 92,\n",
       " 'Python',\n",
       " 94,\n",
       " 'Works',\n",
       " 'Python',\n",
       " 97,\n",
       " 98,\n",
       " 'Python',\n",
       " 'Works')"
      ]
     },
     "execution_count": 2,
     "metadata": {},
     "output_type": "execute_result"
    }
   ],
   "source": [
    "# ------------ Question b ------------ #\n",
    "resultList = list(result)\n",
    "for i in range(len(resultList)):\n",
    "    if type(resultList[i]) == str:\n",
    "        resultList[i] = resultList[i].replace('Hello', 'Python').replace(\"World\", \"Works\")\n",
    "        \n",
    "# tuple([str(w).replace('Hello', 'Python').replace(\"World\", \"Works\") for w in resultList])    \n",
    "\n",
    "result = tuple(resultList)\n",
    "result"
   ]
  },
  {
   "cell_type": "markdown",
   "metadata": {},
   "source": [
    "2\\. **The swap**\n",
    "\n",
    "Write a program that swaps the values of two input variables *x* and *y* from command line (whatever the type).\n",
    "\n",
    "Try to do that without using a temporary variable, exploiting the Python syntax."
   ]
  },
  {
   "cell_type": "code",
   "execution_count": 3,
   "metadata": {},
   "outputs": [
    {
     "name": "stdout",
     "output_type": "stream",
     "text": [
      "a = 5\n",
      "b = 8\n",
      "before the swap : a = 5, b = 8\n",
      "after the swap : a = 8, b = 5\n"
     ]
    }
   ],
   "source": [
    "a = input('a = ')\n",
    "b = input('b = ')\n",
    "\n",
    "print('before the swap : a = {}, b = {}'.format(a,b))\n",
    "\n",
    "\n",
    "a, b = b, a \n",
    "\n",
    "print('after the swap : a = {}, b = {}'.format(a,b))"
   ]
  },
  {
   "cell_type": "markdown",
   "metadata": {},
   "source": [
    "3\\. **Computing the distance**\n",
    "\n",
    "Write a function that calculates and returns the euclidean distance between two points *u* and *v* in a 2D space, where *u* and *v* are both 2-tuples *(x,y)*.\n",
    "\n",
    "Example: if *u=(3,0)* and *v=(0,4)*, the function should return 5.\n",
    "\n",
    "*Hint:* in order to compute the square root, import the `math` library with `import math` and use `math.sqrt()`."
   ]
  },
  {
   "cell_type": "code",
   "execution_count": 4,
   "metadata": {},
   "outputs": [
    {
     "name": "stdout",
     "output_type": "stream",
     "text": [
      "The distance between u = (3, 0) and v = (0, 4) is 5.0 \n"
     ]
    }
   ],
   "source": [
    "from math import sqrt\n",
    "u=(3,0)\n",
    "v=(0,4)\n",
    "\n",
    "def distance(u,v):\n",
    "    return sqrt((u[0] - v[0])**2 + (u[1] + v[1])**2)\n",
    "\n",
    "print('The distance between u = {} and v = {} is {} '.format(u,v, distance(u,v)))"
   ]
  },
  {
   "cell_type": "markdown",
   "metadata": {},
   "source": [
    "4\\. **Counting letters**\n",
    "\n",
    "Write a program that calculates the number of times each character occurs in a given string. Ignore differences in capitalization.\n",
    "\n",
    "The strings are in the cell below."
   ]
  },
  {
   "cell_type": "code",
   "execution_count": 6,
   "metadata": {},
   "outputs": [],
   "source": [
    "s1 = \"Write a program that prints the numbers from 1 to 100. \\\n",
    "But for multiples of three print Hello instead of the number and for the multiples of five print World. \\\n",
    "For numbers which are multiples of both three and five print HelloWorld.\"\n",
    "s2 = \"The quick brown fox jumps over the lazy dog\""
   ]
  },
  {
   "cell_type": "code",
   "execution_count": 7,
   "metadata": {},
   "outputs": [
    {
     "name": "stdout",
     "output_type": "stream",
     "text": [
      "count of the letters of string S1 is {'a': 7, 'b': 5, 'c': 1, 'd': 5, 'e': 20, 'f': 10, 'g': 1, 'h': 11, 'i': 12, 'j': 0, 'k': 0, 'l': 12, 'm': 8, 'n': 10, 'o': 15, 'p': 8, 'q': 0, 'r': 19, 's': 7, 't': 19, 'u': 7, 'v': 2, 'w': 4, 'x': 0, 'y': 0, 'z': 0} \n",
      " \n",
      "\n",
      "count of the letters of string S2 is {'a': 1, 'b': 1, 'c': 1, 'd': 1, 'e': 3, 'f': 1, 'g': 1, 'h': 2, 'i': 1, 'j': 1, 'k': 1, 'l': 1, 'm': 1, 'n': 1, 'o': 4, 'p': 1, 'q': 1, 'r': 2, 's': 1, 't': 2, 'u': 2, 'v': 1, 'w': 1, 'x': 1, 'y': 1, 'z': 1}\n"
     ]
    }
   ],
   "source": [
    "def count_character(s):\n",
    "    alphabets = ['a', 'b', 'c', 'd', 'e', 'f', 'g', 'h', 'i', 'j', 'k', 'l', 'm', 'n', 'o', 'p', 'q', 'r', 's', 't', 'u', 'v', 'w', 'x', 'y', 'z']\n",
    "    count = dict()\n",
    "    for char in alphabets:   \n",
    "        count[char] = s.lower().count(char)\n",
    "    return count\n",
    "\n",
    "print('count of the letters of string S1 is {} \\n \\n'.format(count_character(s1)))\n",
    "print('count of the letters of string S2 is {}'.format(count_character(s2)))\n"
   ]
  },
  {
   "cell_type": "markdown",
   "metadata": {},
   "source": [
    "5\\. **Isolating the unique**\n",
    "\n",
    "Write a program that determines and counts the unique numbers in the list:"
   ]
  },
  {
   "cell_type": "code",
   "execution_count": 14,
   "metadata": {},
   "outputs": [],
   "source": [
    "l = [36, 45, 58, 3, 74, 96, 64, 45, 31, 10, 24, 19, 33, 86, 99, 18, 63, 70, 85,\n",
    " 85, 63, 47, 56, 42, 70, 84, 88, 55, 20, 54, 8, 56, 51, 79, 81, 57, 37, 91,\n",
    " 1, 84, 84, 36, 66, 9, 89, 50, 42, 91, 50, 95, 90, 98, 39, 16, 82, 31, 92, 41,\n",
    " 45, 30, 66, 70, 34, 85, 94, 5, 3, 36, 72, 91, 84, 34, 87, 75, 53, 51, 20, 89, 51, 20]"
   ]
  },
  {
   "cell_type": "code",
   "execution_count": 30,
   "metadata": {},
   "outputs": [
    {
     "name": "stdout",
     "output_type": "stream",
     "text": [
      "The unique numbers are [1, 3, 5, 8, 9, 10, 16, 18, 19, 20, 24, 30, 31, 33, 34, 36, 37, 39, 41, 42, 45, 47, 50, 51, 53, 54, 55, 56, 57, 58, 63, 64, 66, 70, 72, 74, 75, 79, 81, 82, 84, 85, 86, 87, 88, 89, 90, 91, 92, 94, 95, 96, 98, 99] \n",
      "The count is 54\n"
     ]
    }
   ],
   "source": [
    "l_1 = []\n",
    "for x in l:\n",
    "    if x not in l_1:\n",
    "        l_1.append(x)\n",
    "l_1.sort()\n",
    "print('The unique numbers are {} \\nThe count is {}'.format(l_1, len(l_1)))"
   ]
  },
  {
   "cell_type": "markdown",
   "metadata": {},
   "source": [
    "Do the same exploiting only the Python data structures."
   ]
  },
  {
   "cell_type": "code",
   "execution_count": 19,
   "metadata": {},
   "outputs": [
    {
     "name": "stdout",
     "output_type": "stream",
     "text": [
      "The unique numbers are {1, 3, 5, 8, 9, 10, 16, 18, 19, 20, 24, 30, 31, 33, 34, 36, 37, 39, 41, 42, 45, 47, 50, 51, 53, 54, 55, 56, 57, 58, 63, 64, 66, 70, 72, 74, 75, 79, 81, 82, 84, 85, 86, 87, 88, 89, 90, 91, 92, 94, 95, 96, 98, 99} \n",
      "The count is 54\n"
     ]
    }
   ],
   "source": [
    "print('The unique numbers are {} \\nThe count is {}'.format(set(l), len(set(l))))"
   ]
  },
  {
   "cell_type": "markdown",
   "metadata": {},
   "source": [
    "6\\. **Casting**\n",
    "\n",
    "Write a program that:\n",
    "* reads from command line two variables, that can be either `int`, `float`, or `str`.\n",
    "* use the `try`/`except` expressions to perform the addition of these two variables, only if possible\n",
    "* and print the result without making the code crash for all the `int`/`float`/`str` input combinations."
   ]
  },
  {
   "cell_type": "code",
   "execution_count": 39,
   "metadata": {},
   "outputs": [
    {
     "name": "stdout",
     "output_type": "stream",
     "text": [
      "The variable type should be int, float, or str : 5\n",
      "Input is a interger number. Number =  5\n",
      "The variable type should be int, float, or str : m\n",
      "Input is string, string =  m\n",
      "******  TypeError !!!! 5 and m can't be added together *********\n"
     ]
    }
   ],
   "source": [
    "def inputchecked():\n",
    "    try:\n",
    "        a = input('The variable type should be int, float, or str : ')\n",
    "        val = int(a)\n",
    "        print(\"Input is a interger number. Number = \", val)\n",
    "    except ValueError:\n",
    "        try:\n",
    "            val = float(a)\n",
    "            print(\"Input is a float  number. Number = \", val)\n",
    "        except ValueError:\n",
    "            val = a\n",
    "            print(\"Input is string, string = \", val)\n",
    "      \n",
    "    return val\n",
    "\n",
    "a = inputchecked()\n",
    "b = inputchecked()\n",
    "\n",
    "try :\n",
    "    c = a + b\n",
    "except TypeError:\n",
    "    print(\"******  TypeError !!!! {} and {} can't be added together *********\".format(a,b))\n",
    "else :\n",
    "    print('{} + {} = {}'.format(a,b,c))"
   ]
  },
  {
   "cell_type": "markdown",
   "metadata": {},
   "source": [
    "7\\. **Cubes**\n",
    "\n",
    "Create a list of the cubes of *x* for *x* in *[0, 10]* using:\n",
    "\n",
    "a) a for loop\n",
    "\n",
    "b) a list comprehension"
   ]
  },
  {
   "cell_type": "code",
   "execution_count": 40,
   "metadata": {},
   "outputs": [
    {
     "name": "stdout",
     "output_type": "stream",
     "text": [
      "[0, 1, 4, 9, 16, 25, 36, 49, 64, 81]\n"
     ]
    }
   ],
   "source": [
    "# ----------- Question a -------------- #\n",
    "cubes = []\n",
    "for x in range(0,10):\n",
    "    cubes.append(x**2)\n",
    "print(cubes)"
   ]
  },
  {
   "cell_type": "code",
   "execution_count": 41,
   "metadata": {},
   "outputs": [
    {
     "name": "stdout",
     "output_type": "stream",
     "text": [
      "[0, 1, 4, 9, 16, 25, 36, 49, 64, 81]\n"
     ]
    }
   ],
   "source": [
    "# ----------- Question b -------------- #\n",
    "cubes = [x**2 for x in range(0,10)]\n",
    "print(cubes)"
   ]
  },
  {
   "cell_type": "markdown",
   "metadata": {},
   "source": [
    "8\\. **List comprehension**\n",
    "\n",
    "Write, using the list comprehension, a single-line expression that gets the same result as the code in the cell below."
   ]
  },
  {
   "cell_type": "code",
   "execution_count": 12,
   "metadata": {},
   "outputs": [
    {
     "name": "stdout",
     "output_type": "stream",
     "text": [
      "[(0, 0), (0, 1), (0, 2), (0, 3), (1, 0), (1, 1), (1, 2), (1, 3), (2, 0), (2, 1), (2, 2), (2, 3)]\n"
     ]
    }
   ],
   "source": [
    "a = []\n",
    "for i in range(3):\n",
    "    for j in range(4):\n",
    "        a.append((i, j))\n",
    "print(a)"
   ]
  },
  {
   "cell_type": "code",
   "execution_count": 13,
   "metadata": {},
   "outputs": [
    {
     "name": "stdout",
     "output_type": "stream",
     "text": [
      "[(0, 0), (0, 1), (0, 2), (0, 3), (1, 0), (1, 1), (1, 2), (1, 3), (2, 0), (2, 1), (2, 2), (2, 3)]\n"
     ]
    }
   ],
   "source": [
    "a = [(i,j) for i in range(3) for j in range(4)]\n",
    "print(a)"
   ]
  },
  {
   "cell_type": "markdown",
   "metadata": {},
   "source": [
    "9\\. **Nested list comprehension**\n",
    "\n",
    "> A Pythagorean triple is an integer solution to the Pythagorean theorem $a^2+b^2=c^2$. The first Pythagorean triple is (3, 4, 5).\n",
    "\n",
    "Find and put in a tuple all unique Pythagorean triples for the positive integers $a$, $b$ and $c$ with $c < 100$."
   ]
  },
  {
   "cell_type": "markdown",
   "metadata": {},
   "source": [
    "$ a^2 + b^2 = c^2 \\\\\n",
    "a^2 = c^2 - b^2 = (c-b) (c+b) \\\\\n",
    "\\dfrac{a}{c-b} = \\dfrac{c+b}{a} \\\\\n",
    "let's \\ set \\  : \\ \\dfrac{a}{c-b} = \\dfrac{c+b}{a} = \\dfrac{m}{n} \\\\\n",
    "We \\ can \\ take  \\\\\n",
    "a = 2mn \\\\\n",
    "b = m^2 - n^2 \\\\\n",
    "c = m^2 + n^2 \\\\\n",
    "$"
   ]
  },
  {
   "cell_type": "code",
   "execution_count": 35,
   "metadata": {},
   "outputs": [
    {
     "data": {
      "text/plain": [
       "[(4, 3, 5),\n",
       " (6, 8, 10),\n",
       " (12, 5, 13),\n",
       " (8, 15, 17),\n",
       " (16, 12, 20),\n",
       " (24, 7, 25),\n",
       " (10, 24, 26),\n",
       " (20, 21, 29),\n",
       " (30, 16, 34),\n",
       " (40, 9, 41),\n",
       " (12, 35, 37),\n",
       " (24, 32, 40),\n",
       " (36, 27, 45),\n",
       " (48, 20, 52),\n",
       " (60, 11, 61),\n",
       " (14, 48, 50),\n",
       " (28, 45, 53),\n",
       " (42, 40, 58),\n",
       " (56, 33, 65),\n",
       " (70, 24, 74),\n",
       " (84, 13, 85),\n",
       " (16, 63, 65),\n",
       " (32, 60, 68),\n",
       " (48, 55, 73),\n",
       " (64, 48, 80),\n",
       " (80, 39, 89),\n",
       " (18, 80, 82),\n",
       " (36, 77, 85),\n",
       " (54, 72, 90),\n",
       " (72, 65, 97)]"
      ]
     },
     "execution_count": 35,
     "metadata": {},
     "output_type": "execute_result"
    }
   ],
   "source": [
    "# ------- with list comprehension ---------\n",
    "Pythagorean = [(2*m*n,m**2 - n**2,m**2 + n**2) for m in range(1,10) for n in range(1,10) if (m**2 + n**2 <100) and (m**2 - n**2 > 0 )]\n",
    "\n",
    "#--------- with a for loop ----------------\n",
    "# for m in range(1,10):\n",
    "#     for n in range(1,10):\n",
    "#         c = m**2 + n**2\n",
    "#         b = m**2 - n**2\n",
    "#         if c <100 and b > 0:\n",
    "#             a = 2*m*n\n",
    "#             Pythagorean.append((a,b,c))\n",
    "\n",
    "len(Pythagorean)          "
   ]
  },
  {
   "cell_type": "markdown",
   "metadata": {},
   "source": [
    "10\\. **Normalization of a N-dimensional vector**\n",
    "\n",
    "Write a program that takes an N-dimensional vector, e.g. a variable-length tuple of numbers, and normalizes it to one (in such a way that the squared sum of all the entries is equal to 1)."
   ]
  },
  {
   "cell_type": "markdown",
   "metadata": {},
   "source": [
    "v is N-dimensional vector, $ v = \\begin{bmatrix} x_1 \\\\ x_2 \\\\ . \\\\ . \\\\x_N \\end{bmatrix}$\n",
    "\n",
    "for i in range of [1..N], we set $ y_i = \\dfrac{x_i}{\\sqrt{\\sum^N_{j=1} x^2_j}} $\n",
    "\n",
    "==> The new normalized v is $ v = \\begin{bmatrix} y_1 \\\\ y_2 \\\\ . \\\\ . \\\\y_N \\end{bmatrix}$\n",
    "\n",
    "with the squared sum of all the entries is equal to 1 : $ \\sum^N_{i = 1} y^2_i =  \\sum^N_{i = 1} (\\dfrac{x_i}{\\sqrt{\\sum^N_{j=1} x^2_j}})^2 =  \\dfrac{\\sum^N_{i = 1} x^2_i}{\\sum^N_{j=1} x^2_j} = 1 $"
   ]
  },
  {
   "cell_type": "markdown",
   "metadata": {},
   "source": [
    "[![\\\\ v = \\begin{bmatrix} x_1 \\\\ x_2 \\\\ . \\\\. \\\\ x_N \\\\ \\end{bmatrix}](https://latex.codecogs.com/svg.latex?%5C%5C%20v%20%3D%20%5Cbegin%7Bbmatrix%7D%20x_1%20%5C%5C%20x_2%20%5C%5C%20.%20%5C%5C.%20%5C%5C%20x_N%20%5C%5C%20%5Cend%7Bbmatrix%7D)](#_)\n",
    "\n",
    "For i range of [1..N]\n",
    "\n",
    "[![\\\\ y_i=\\dfrac{x_i}{\\sqrt{\\sum^N_{j=1}x_j^2}}](https://latex.codecogs.com/svg.latex?%5C%5C%20y_i%3D%5Cdfrac%7Bx_i%7D%7B%5Csqrt%7B%5Csum%5EN_%7Bj%3D1%7Dx_j%5E2%7D%7D)](#_)\n",
    "\n",
    "\n",
    "The new normalized v [![\\\\ v = \\begin{bmatrix} y_1 \\\\ y_2 \\\\ . \\\\. \\\\ y_N \\\\ \\end{bmatrix}](https://latex.codecogs.com/svg.latex?%5C%5C%20v%20%3D%20%5Cbegin%7Bbmatrix%7D%20y_1%20%5C%5C%20y_2%20%5C%5C%20.%20%5C%5C.%20%5C%5C%20y_N%20%5C%5C%20%5Cend%7Bbmatrix%7D)](#_)"
   ]
  },
  {
   "cell_type": "code",
   "execution_count": 47,
   "metadata": {},
   "outputs": [
    {
     "name": "stdout",
     "output_type": "stream",
     "text": [
      "v normalized : (0.36563621206356534, 0.43876345447627835, 0.21938172723813917, 0.6581451817144176, 0.43876345447627835)\n",
      "The squared sum of the normalized v : 1.0\n"
     ]
    }
   ],
   "source": [
    "def normalizer(v):\n",
    "    u = list(v)\n",
    "    w = sqrt(sum([i**2 for i in u ]))\n",
    "    return tuple([i/w for i in u])\n",
    "\n",
    "v = (5,6,3,9,6)\n",
    "norm = normalizer(v)\n",
    "sum_norm = sum([i**2 for i in norm ])\n",
    "print('v normalized : {}'.format(norm))\n",
    "print('The squared sum of the normalized v : {}'.format(round(sum_norm,1)))"
   ]
  },
  {
   "cell_type": "markdown",
   "metadata": {},
   "source": [
    "11\\. **The Fibonacci sequence**\n",
    "\n",
    "Calculate the first 20 numbers of the [Fibonacci sequence](https://en.wikipedia.org/wiki/Fibonacci_number) using only `for` or `while` loops."
   ]
  },
  {
   "cell_type": "markdown",
   "metadata": {},
   "source": [
    "The Fibonacci numbers are defined by the following recurrence relation\n",
    "$ \\\\ F_0 = 0, F_1 = 1 \\ \\ and $\n",
    "$ \\\\ F_n = F_{n-1} + F_{n-2} \\ for \\ n>1 $\n"
   ]
  },
  {
   "cell_type": "code",
   "execution_count": 29,
   "metadata": {},
   "outputs": [
    {
     "name": "stdout",
     "output_type": "stream",
     "text": [
      "F(0) = 0\n",
      "F(1) = 1\n",
      "F(2) = 1\n",
      "F(3) = 2\n",
      "F(4) = 3\n",
      "F(5) = 5\n",
      "F(6) = 8\n",
      "F(7) = 13\n",
      "F(8) = 21\n",
      "F(9) = 34\n",
      "F(10) = 55\n",
      "F(11) = 89\n",
      "F(12) = 144\n",
      "F(13) = 233\n",
      "F(14) = 377\n",
      "F(15) = 610\n",
      "F(16) = 987\n",
      "F(17) = 1597\n",
      "F(18) = 2584\n",
      "F(19) = 4181\n"
     ]
    }
   ],
   "source": [
    "fib = []\n",
    "for i in range(20): \n",
    "    if i==0:\n",
    "        print('F(0) = 0')\n",
    "        fib.append(0)\n",
    "    elif i==1:\n",
    "        print('F(1) = 1')\n",
    "        fib.append(1)\n",
    "    else:\n",
    "        print('F({}) = {}'.format(i,fib[-1] + fib[-2]))\n",
    "        fib.append(fib[-1] + fib[-2])\n",
    "    "
   ]
  }
 ],
 "metadata": {
  "kernelspec": {
   "display_name": "Python 3 (ipykernel)",
   "language": "python",
   "name": "python3"
  },
  "language_info": {
   "codemirror_mode": {
    "name": "ipython",
    "version": 3
   },
   "file_extension": ".py",
   "mimetype": "text/x-python",
   "name": "python",
   "nbconvert_exporter": "python",
   "pygments_lexer": "ipython3",
   "version": "3.9.12"
  }
 },
 "nbformat": 4,
 "nbformat_minor": 4
}
